{
 "cells": [
  {
   "cell_type": "markdown",
   "metadata": {},
   "source": [
    "# Youtube Count"
   ]
  },
  {
   "cell_type": "code",
   "execution_count": 8,
   "metadata": {},
   "outputs": [
    {
     "name": "stdout",
     "output_type": "stream",
     "text": [
      "456.0\n"
     ]
    }
   ],
   "source": [
    "import requests\n",
    "from bs4 import BeautifulSoup\n",
    "\n",
    "url = 'https://www.youtube.com/watch?v=EyyjKSAnHCo&ab_channel=AdeebRazak'\n",
    "\n",
    "soup = BeautifulSoup(requests.get(url).text, 'lxml')\n",
    "\n",
    "yt_count = float(soup.select_one('meta[itemprop=\"interactionCount\"][content]')['content'])\n",
    "\n",
    "print(yt_count)"
   ]
  },
  {
   "cell_type": "markdown",
   "metadata": {},
   "source": [
    "# Vimeo Count"
   ]
  },
  {
   "cell_type": "code",
   "execution_count": null,
   "metadata": {},
   "outputs": [],
   "source": [
    "pip install vimeo_dl"
   ]
  },
  {
   "cell_type": "code",
   "execution_count": 3,
   "metadata": {},
   "outputs": [
    {
     "name": "stdout",
     "output_type": "stream",
     "text": [
      "862.0\n"
     ]
    }
   ],
   "source": [
    "import vimeo_dl as vimeo\n",
    "url_2 = \"https://vimeo.com/408354411\"\n",
    "video = vimeo.new(url_2)\n",
    "\n",
    "vm_count = float(video.viewcounts)\n",
    "\n",
    "print(vm_count)"
   ]
  },
  {
   "cell_type": "markdown",
   "metadata": {},
   "source": [
    "# IGTV Adeeb"
   ]
  },
  {
   "cell_type": "code",
   "execution_count": 4,
   "metadata": {},
   "outputs": [
    {
     "name": "stdout",
     "output_type": "stream",
     "text": [
      "195.0\n"
     ]
    }
   ],
   "source": [
    "import json\n",
    "import re\n",
    "from urllib.request import urlopen\n",
    "from bs4 import BeautifulSoup as bs\n",
    "\n",
    "page1 = urlopen('https://www.instagram.com/p/B_SSz5iHLRU/')\n",
    "soup1 = bs(page1.read(),\"html.parser\")\n",
    "body1 = soup1.find('body',{'class':''})\n",
    "script1 = body1.find('script',{'type':'text/javascript'})\n",
    "data1 = json.loads(script1.text.replace('window._sharedData = ', '')[:-1])\n",
    "\n",
    "adeeb_count = float(data1['entry_data']['PostPage'][0]['graphql']['shortcode_media']['video_view_count'])\n",
    "\n",
    "print(adeeb_count)\n"
   ]
  },
  {
   "cell_type": "markdown",
   "metadata": {},
   "source": [
    "# IGTV Ish"
   ]
  },
  {
   "cell_type": "code",
   "execution_count": 5,
   "metadata": {},
   "outputs": [
    {
     "name": "stdout",
     "output_type": "stream",
     "text": [
      "338.0\n"
     ]
    }
   ],
   "source": [
    "import json\n",
    "import re\n",
    "from urllib.request import urlopen\n",
    "from bs4 import BeautifulSoup as bs\n",
    "\n",
    "page1 = urlopen('https://www.instagram.com/p/B_SS8pABEvT/')\n",
    "soup1 = bs(page1.read(),\"html.parser\")\n",
    "body1 = soup1.find('body',{'class':''})\n",
    "script1 = body1.find('script',{'type':'text/javascript'})\n",
    "data1 = json.loads(script1.text.replace('window._sharedData = ', '')[:-1])\n",
    "\n",
    "ish_count = float(data1['entry_data']['PostPage'][0]['graphql']['shortcode_media']['video_view_count'])\n",
    "\n",
    "print(ish_count)\n"
   ]
  },
  {
   "cell_type": "markdown",
   "metadata": {},
   "source": [
    "# TOTAL LIVE VIEW COUNT"
   ]
  },
  {
   "cell_type": "code",
   "execution_count": 7,
   "metadata": {},
   "outputs": [
    {
     "name": "stdout",
     "output_type": "stream",
     "text": [
      "1851.0\n"
     ]
    }
   ],
   "source": [
    "SUM = yt_count + vm_count + adeeb_count + ish_count\n",
    "\n",
    "print(SUM)\n"
   ]
  },
  {
   "cell_type": "code",
   "execution_count": null,
   "metadata": {},
   "outputs": [],
   "source": []
  }
 ],
 "metadata": {
  "kernelspec": {
   "display_name": "Python 3",
   "language": "python",
   "name": "python3"
  },
  "language_info": {
   "codemirror_mode": {
    "name": "ipython",
    "version": 3
   },
   "file_extension": ".py",
   "mimetype": "text/x-python",
   "name": "python",
   "nbconvert_exporter": "python",
   "pygments_lexer": "ipython3",
   "version": "3.7.4"
  }
 },
 "nbformat": 4,
 "nbformat_minor": 2
}
